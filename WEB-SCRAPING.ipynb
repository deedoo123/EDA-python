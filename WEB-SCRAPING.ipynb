{
 "cells": [
  {
   "cell_type": "markdown",
   "id": "0f2e1b6e",
   "metadata": {},
   "source": [
    "# Web Scraping on a shopping website"
   ]
  },
  {
   "cell_type": "code",
   "execution_count": 1,
   "id": "2dc172f9",
   "metadata": {},
   "outputs": [],
   "source": [
    "#importing the required libraries\n",
    "import pandas as pd\n",
    "import requests\n",
    "import csv\n",
    "from bs4 import BeautifulSoup"
   ]
  },
  {
   "cell_type": "code",
   "execution_count": 2,
   "id": "2410ec5b",
   "metadata": {},
   "outputs": [
    {
     "data": {
      "text/plain": [
       "<Response [200]>"
      ]
     },
     "execution_count": 2,
     "metadata": {},
     "output_type": "execute_result"
    }
   ],
   "source": [
    "#randomly chosen product - Laptop\n",
    "url = \"https://www.flipkart.com/search?q=laptop&otracker=search&otracker1=search&marketplace=FLIPKART&as-show=on&as=off\"\n",
    "page = requests.get(url)\n",
    "page"
   ]
  },
  {
   "cell_type": "code",
   "execution_count": 8,
   "id": "2cc890e2",
   "metadata": {},
   "outputs": [],
   "source": [
    "#checking whether the information is collected\n",
    "#page.content - committing this as he output takes more sace in github"
   ]
  },
  {
   "cell_type": "code",
   "execution_count": 4,
   "id": "46f4b8e6",
   "metadata": {},
   "outputs": [],
   "source": [
    "#using bs4 for navigating, searching, and modifying the parse tree\n",
    "soup = BeautifulSoup(page.content,'html.parser')"
   ]
  },
  {
   "cell_type": "code",
   "execution_count": 5,
   "id": "390c69b6",
   "metadata": {},
   "outputs": [],
   "source": [
    "#collecting the class variable for the required attributes\n",
    "\n",
    "products=[]\n",
    "prices=[]\n",
    "ratings=[]\n",
    "\n",
    "\n",
    "for a in soup.findAll('a',href=True,attrs={'class':'_1fQZEK'}):\n",
    "    name=a.find('div',attrs={'class':'_4rR01T'})\n",
    "    price=a.find('div',attrs={'class':'_30jeq3 _1_WHN1'})\n",
    "    rating=a.find('div',attrs={'class':'_3LWZlK'})    \n",
    "    products.append(name.text)\n",
    "    prices.append(price.text)\n",
    "    ratings.append(rating.text)"
   ]
  },
  {
   "cell_type": "code",
   "execution_count": 6,
   "id": "3046cc7c",
   "metadata": {},
   "outputs": [
    {
     "data": {
      "text/html": [
       "<div>\n",
       "<style scoped>\n",
       "    .dataframe tbody tr th:only-of-type {\n",
       "        vertical-align: middle;\n",
       "    }\n",
       "\n",
       "    .dataframe tbody tr th {\n",
       "        vertical-align: top;\n",
       "    }\n",
       "\n",
       "    .dataframe thead th {\n",
       "        text-align: right;\n",
       "    }\n",
       "</style>\n",
       "<table border=\"1\" class=\"dataframe\">\n",
       "  <thead>\n",
       "    <tr style=\"text-align: right;\">\n",
       "      <th></th>\n",
       "      <th>Product Name</th>\n",
       "      <th>Prices</th>\n",
       "      <th>ratings</th>\n",
       "    </tr>\n",
       "  </thead>\n",
       "  <tbody>\n",
       "    <tr>\n",
       "      <th>0</th>\n",
       "      <td>RedmiBook Pro Core i3 11th Gen - (8 GB/256 GB ...</td>\n",
       "      <td>₹29,999</td>\n",
       "      <td>4.2</td>\n",
       "    </tr>\n",
       "    <tr>\n",
       "      <th>1</th>\n",
       "      <td>acer Aspire 7 Ryzen 5 Hexa Core AMD R5-5500U -...</td>\n",
       "      <td>₹45,990</td>\n",
       "      <td>4.5</td>\n",
       "    </tr>\n",
       "    <tr>\n",
       "      <th>2</th>\n",
       "      <td>acer Aspire 7 Ryzen 5 Hexa Core 5500U - (16 GB...</td>\n",
       "      <td>₹49,990</td>\n",
       "      <td>4.5</td>\n",
       "    </tr>\n",
       "    <tr>\n",
       "      <th>3</th>\n",
       "      <td>ASUS VivoBook 15 (2022) Core i3 10th Gen - (8 ...</td>\n",
       "      <td>₹33,990</td>\n",
       "      <td>4.3</td>\n",
       "    </tr>\n",
       "    <tr>\n",
       "      <th>4</th>\n",
       "      <td>HP Athlon Dual Core 3050U - (4 GB/256 GB SSD/D...</td>\n",
       "      <td>₹22,490</td>\n",
       "      <td>4.3</td>\n",
       "    </tr>\n",
       "  </tbody>\n",
       "</table>\n",
       "</div>"
      ],
      "text/plain": [
       "                                        Product Name   Prices ratings\n",
       "0  RedmiBook Pro Core i3 11th Gen - (8 GB/256 GB ...  ₹29,999     4.2\n",
       "1  acer Aspire 7 Ryzen 5 Hexa Core AMD R5-5500U -...  ₹45,990     4.5\n",
       "2  acer Aspire 7 Ryzen 5 Hexa Core 5500U - (16 GB...  ₹49,990     4.5\n",
       "3  ASUS VivoBook 15 (2022) Core i3 10th Gen - (8 ...  ₹33,990     4.3\n",
       "4  HP Athlon Dual Core 3050U - (4 GB/256 GB SSD/D...  ₹22,490     4.3"
      ]
     },
     "execution_count": 6,
     "metadata": {},
     "output_type": "execute_result"
    }
   ],
   "source": [
    "#creating a Dataframe using dictionary\n",
    "dataFrame = pd.DataFrame({\"Product Name\":products, 'Prices':prices, 'ratings':ratings})\n",
    "dataFrame.head()"
   ]
  },
  {
   "cell_type": "code",
   "execution_count": 7,
   "id": "83b430c7",
   "metadata": {},
   "outputs": [],
   "source": [
    "#saving the output\n",
    "dataFrame.to_csv('LaptopDetails.csv')"
   ]
  },
  {
   "cell_type": "code",
   "execution_count": null,
   "id": "b4751c9c",
   "metadata": {},
   "outputs": [],
   "source": []
  }
 ],
 "metadata": {
  "kernelspec": {
   "display_name": "Python 3 (ipykernel)",
   "language": "python",
   "name": "python3"
  },
  "language_info": {
   "codemirror_mode": {
    "name": "ipython",
    "version": 3
   },
   "file_extension": ".py",
   "mimetype": "text/x-python",
   "name": "python",
   "nbconvert_exporter": "python",
   "pygments_lexer": "ipython3",
   "version": "3.9.7"
  }
 },
 "nbformat": 4,
 "nbformat_minor": 5
}
